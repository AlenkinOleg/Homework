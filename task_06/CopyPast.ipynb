{
 "metadata": {
  "name": ""
 },
 "nbformat": 3,
 "nbformat_minor": 0,
 "worksheets": [
  {
   "cells": [
    {
     "cell_type": "code",
     "collapsed": false,
     "input": [
      "import numpy as np\n",
      "from scipy.interpolate import UnivariateSpline\n",
      "import pylab as pl\n",
      "\n",
      "\n",
      "def gumbell_dist(arr):\n",
      "    return -np.log(-np.log(arr))\n",
      "\n",
      "years_nb = 21\n",
      "wspeeds = np.load('sprog-windspeeds.npy')\n",
      "max_speeds = np.array([arr.max() for arr in np.array_split(wspeeds, years_nb)])\n",
      "sorted_max_speeds = np.sort(max_speeds)\n",
      "\n",
      "cprob = (np.arange(years_nb, dtype=np.float32) + 1)/(years_nb + 1)\n",
      "gprob = gumbell_dist(cprob)\n",
      "speed_spline = UnivariateSpline(gprob, sorted_max_speeds, k=1)\n",
      "nprob = gumbell_dist(np.linspace(1e-3, 1-1e-3, 1e2))\n",
      "fitted_max_speeds = speed_spline(nprob)\n",
      "\n",
      "fifty_prob = gumbell_dist(49./50.)\n",
      "fifty_wind = speed_spline(fifty_prob)\n",
      "\n",
      "pl.figure()\n",
      "pl.bar(np.arange(years_nb) + 1, max_speeds)\n",
      "pl.axis('tight')\n",
      "pl.xlabel('Year')\n",
      "pl.ylabel('Annual wind speed maxima [$m/s$]')\n",
      "pl.show()"
     ],
     "language": "python",
     "metadata": {},
     "outputs": [],
     "prompt_number": 3
    },
    {
     "cell_type": "code",
     "collapsed": false,
     "input": [
      "import numpy as np\n",
      "from scipy.interpolate import UnivariateSpline\n",
      "import pylab as pl\n",
      "\n",
      "\n",
      "def gumbell_dist(arr):\n",
      "    return -np.log(-np.log(arr))\n",
      "\n",
      "years_nb = 21\n",
      "wspeeds = np.load('sprog-windspeeds.npy')\n",
      "max_speeds = np.array([arr.max() for arr in np.array_split(wspeeds, years_nb)])\n",
      "sorted_max_speeds = np.sort(max_speeds)\n",
      "\n",
      "cprob = (np.arange(years_nb, dtype=np.float32) + 1)/(years_nb + 1)\n",
      "gprob = gumbell_dist(cprob)\n",
      "speed_spline = UnivariateSpline(gprob, sorted_max_speeds, k=1)\n",
      "nprob = gumbell_dist(np.linspace(1e-3, 1-1e-3, 1e2))\n",
      "fitted_max_speeds = speed_spline(nprob)\n",
      "\n",
      "fifty_prob = gumbell_dist(49./50.)\n",
      "fifty_wind = speed_spline(fifty_prob)\n",
      "\n",
      "pl.figure()\n",
      "pl.plot(sorted_max_speeds, gprob, 'o')\n",
      "pl.plot(fitted_max_speeds, nprob, 'g--')\n",
      "pl.plot([fifty_wind], [fifty_prob], 'o', ms=8., mfc='y', mec='y')\n",
      "pl.plot([fifty_wind, fifty_wind], [pl.axis()[2], fifty_prob], 'k--')\n",
      "pl.text(35, -1, r'$V_{50} = %.2f \\, m/s$' % fifty_wind)\n",
      "pl.xlabel('Annual wind speed maxima [$m/s$]')\n",
      "pl.ylabel('Gumbell cumulative probability')\n",
      "pl.show()"
     ],
     "language": "python",
     "metadata": {},
     "outputs": [],
     "prompt_number": 4
    },
    {
     "cell_type": "code",
     "collapsed": false,
     "input": [],
     "language": "python",
     "metadata": {},
     "outputs": []
    }
   ],
   "metadata": {}
  }
 ]
}