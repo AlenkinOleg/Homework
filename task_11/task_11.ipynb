{
 "metadata": {
  "name": ""
 },
 "nbformat": 3,
 "nbformat_minor": 0,
 "worksheets": [
  {
   "cells": [
    {
     "cell_type": "code",
     "collapsed": false,
     "input": [
      "%matplotlib inline\n",
      "\n",
      "map_dict = {'laying':1, 'sitting':2, 'standing':3, 'walk':4, 'walkup':5, 'walkdown':6} \n",
      "\n",
      "def remap_col(df,colname, mapping=None):\n",
      "    if not mapping:\n",
      "        global map_dict\n",
      "        mapping = map_dict.copy()\n",
      "    df[colname] = df[colname].map(lambda x: mapping[x])\n",
      "    return df"
     ],
     "language": "python",
     "metadata": {},
     "outputs": [],
     "prompt_number": 25
    },
    {
     "cell_type": "code",
     "collapsed": false,
     "input": [
      "import pandas as pd\n",
      "from numpy import nan as NA\n",
      "samsungdata = pd.read_csv('samsungdata.csv')\n",
      "sambak = samsungdata\n",
      "cols=list(sambak.columns)\n",
      "cols[0] = 'Renamed'\n",
      "newcols = [ \"x%d\"%(k) for k in range(0,len(cols)) ]\n",
      "newcols[-2:] = cols[-2:]\n",
      "sambak.columns = newcols\n",
      "sambak2=sambak[sambak.columns[1:-2]]\n",
      "samtest = samsungdata[samsungdata['subject'] >= 27]\n",
      "samtrain = samsungdata[samsungdata['subject'] <= 6]\n",
      "samval2 = samsungdata[samsungdata['subject'] < 27]\n",
      "samval = samval2[samsungdata['subject'] >= 21 ]"
     ],
     "language": "python",
     "metadata": {},
     "outputs": [
      {
       "output_type": "stream",
       "stream": "stderr",
       "text": [
        "/usr/lib/python2.7/dist-packages/pandas/core/frame.py:1686: UserWarning: Boolean Series key will be reindexed to match DataFrame index.\n",
        "  \"DataFrame index.\", UserWarning)\n"
       ]
      }
     ],
     "prompt_number": 27
    },
    {
     "cell_type": "code",
     "collapsed": false,
     "input": [
      "samtrain = remap_col(samtrain,'activity')\n",
      "samval = remap_col(samval,'activity')\n",
      "samtest = remap_col(samtest,'activity')"
     ],
     "language": "python",
     "metadata": {},
     "outputs": [
      {
       "output_type": "stream",
       "stream": "stderr",
       "text": [
        "-c:9: SettingWithCopyWarning: A value is trying to be set on a copy of a slice from a DataFrame.\n",
        "Try using .loc[row_index,col_indexer] = value instead\n"
       ]
      }
     ],
     "prompt_number": 28
    },
    {
     "cell_type": "code",
     "collapsed": false,
     "input": [
      "import sklearn.ensemble as sk\n",
      "rfc = sk.RandomForestClassifier(n_estimators=50, compute_importances=True, oob_score=True)\n",
      "train_data = samtrain[samtrain.columns[1:-2]]\n",
      "train_truth = samtrain['activity']\n",
      "model = rfc.fit(train_data, train_truth)"
     ],
     "language": "python",
     "metadata": {},
     "outputs": [
      {
       "output_type": "stream",
       "stream": "stderr",
       "text": [
        "/usr/lib/python2.7/dist-packages/sklearn/ensemble/forest.py:783: DeprecationWarning: Setting compute_importances is no longer required as version 0.14. Variable importances are now computed on the fly when accessing the feature_importances_ attribute. This parameter will be removed in 0.16.\n",
        "  DeprecationWarning)\n"
       ]
      }
     ],
     "prompt_number": 29
    },
    {
     "cell_type": "code",
     "collapsed": false,
     "input": [
      "rfc.oob_score_"
     ],
     "language": "python",
     "metadata": {},
     "outputs": [
      {
       "metadata": {},
       "output_type": "pyout",
       "prompt_number": 30,
       "text": [
        "0.009125475285171103"
       ]
      }
     ],
     "prompt_number": 30
    },
    {
     "cell_type": "code",
     "collapsed": false,
     "input": [
      "fi = enumerate(rfc.feature_importances_)\n",
      "cols = samtrain.columns\n",
      "[(value,cols[i]) for (i,value) in fi if value > 0.017]"
     ],
     "language": "python",
     "metadata": {},
     "outputs": [
      {
       "metadata": {},
       "output_type": "pyout",
       "prompt_number": 31,
       "text": [
        "[(0.028194993628454745, 'x41'),\n",
        " (0.038630338634310167, 'x49'),\n",
        " (0.029772681968711204, 'x50'),\n",
        " (0.018785270044901683, 'x52'),\n",
        " (0.022463742714412059, 'x53'),\n",
        " (0.029127442144411399, 'x57'),\n",
        " (0.017157025260820455, 'x314'),\n",
        " (0.026613424665699048, 'x558'),\n",
        " (0.032071172887246084, 'x559')]"
       ]
      }
     ],
     "prompt_number": 31
    },
    {
     "cell_type": "code",
     "collapsed": false,
     "input": [
      "fi = enumerate(rfc.feature_importances_)\n",
      "cols = samtrain.columns\n",
      "top10 = [(cols[i]) for (i,value) in fi if value > 0.017]"
     ],
     "language": "python",
     "metadata": {},
     "outputs": [],
     "prompt_number": 32
    },
    {
     "cell_type": "code",
     "collapsed": false,
     "input": [
      "val_data = samval[samval.columns[1:-2]]\n",
      "val_truth = samval['activity']\n",
      "val_pred = rfc.predict(val_data)\n",
      "\n",
      "test_data = samtest[samtest.columns[1:-2]]\n",
      "test_truth = samtest['activity']\n",
      "test_pred = rfc.predict(test_data)"
     ],
     "language": "python",
     "metadata": {},
     "outputs": [],
     "prompt_number": 33
    },
    {
     "cell_type": "code",
     "collapsed": false,
     "input": [
      "print(\"mean accuracy score for validation set = %f\" %(rfc.score(val_data, val_truth)))\n",
      "print(\"mean accuracy score for test set = %f\" %(rfc.score(test_data, test_truth)))"
     ],
     "language": "python",
     "metadata": {},
     "outputs": [
      {
       "output_type": "stream",
       "stream": "stdout",
       "text": [
        "mean accuracy score for validation set = 0.833333\n",
        "mean accuracy score for test set = 0.917172\n"
       ]
      }
     ],
     "prompt_number": 34
    },
    {
     "cell_type": "code",
     "collapsed": false,
     "input": [
      "import sklearn.metrics as skm\n",
      "test_cm = skm.confusion_matrix(test_truth,test_pred)"
     ],
     "language": "python",
     "metadata": {},
     "outputs": [],
     "prompt_number": 35
    },
    {
     "cell_type": "code",
     "collapsed": false,
     "input": [
      "import pylab as pl\n",
      "pl.matshow(test_cm)\n",
      "pl.title('Confusion matrix for test data')\n",
      "pl.colorbar()\n",
      "pl.show()"
     ],
     "language": "python",
     "metadata": {},
     "outputs": [
      {
       "metadata": {},
       "output_type": "display_data",
       "png": "[encoded data removed]",
       "text": [
        "<matplotlib.figure.Figure at 0xaf556ccc>"
       ]
      }
     ],
     "prompt_number": 36
    },
    {
     "cell_type": "code",
     "collapsed": false,
     "input": [
      "print(\"Accuracy = %f\" %(skm.accuracy_score(test_truth,test_pred)))\n",
      "print(\"Precision = %f\" %(skm.precision_score(test_truth,test_pred)))\n",
      "print(\"Recall = %f\" %(skm.recall_score(test_truth,test_pred)))\n",
      "print(\"F1 score = %f\" %(skm.f1_score(test_truth,test_pred)))"
     ],
     "language": "python",
     "metadata": {},
     "outputs": [
      {
       "output_type": "stream",
       "stream": "stdout",
       "text": [
        "Accuracy = 0.917172\n",
        "Precision = 0.920244\n",
        "Recall = 0.917172\n",
        "F1 score = 0.917638\n"
       ]
      }
     ],
     "prompt_number": 37
    },
    {
     "cell_type": "code",
     "collapsed": false,
     "input": [],
     "language": "python",
     "metadata": {},
     "outputs": []
    }
   ],
   "metadata": {}
  }
 ]
}