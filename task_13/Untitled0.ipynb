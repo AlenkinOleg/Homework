{
 "metadata": {
  "name": ""
 },
 "nbformat": 3,
 "nbformat_minor": 0,
 "worksheets": [
  {
   "cells": [
    {
     "cell_type": "code",
     "collapsed": false,
     "input": [
      "import numpy as np\n",
      "import time\n",
      "from scipy.cluster.vq import kmeans\n",
      "from scipy.spatial.distance import cdist,pdist\n",
      "from sklearn import datasets\n",
      "from sklearn.decomposition import RandomizedPCA\n",
      "from matplotlib import pyplot as plt\n",
      "from matplotlib import cm\n",
      "from IPython.parallel import Client\n",
      "\n",
      "client = Client()\n",
      "v = client[:]\n"
     ],
     "language": "python",
     "metadata": {},
     "outputs": [],
     "prompt_number": 5
    },
    {
     "cell_type": "code",
     "collapsed": false,
     "input": [
      "data = datasets.load_digits()\n",
      "t = data['target']\n",
      "\n",
      "pca = RandomizedPCA(n_components=2).fit(data['data'])\n",
      "X = pca.transform(data['data'])\n",
      "\n",
      "K_MAX = 20"
     ],
     "language": "python",
     "metadata": {},
     "outputs": [],
     "prompt_number": 7
    },
    {
     "cell_type": "code",
     "collapsed": false,
     "input": [
      "#non parallel\n",
      "KK = range(1,K_MAX+1)\n",
      "t0 = time.time()\n",
      "KM = [kmeans(X,k) for k in KK]\n",
      "centroids = [cent for (cent,var) in KM]\n",
      "D_k = [cdist(X, cent, 'euclidean') for cent in centroids]\n",
      "dist = [np.min(D,axis=1) for D in D_k]\n",
      "tot_withinss = [sum(d**2) for d in dist]  # Total within-cluster sum of squares\n",
      "nonParTime = time.time() - t0\n",
      "print nonParTime"
     ],
     "language": "python",
     "metadata": {},
     "outputs": [
      {
       "output_type": "stream",
       "stream": "stdout",
       "text": [
        "7.45197200775\n"
       ]
      }
     ],
     "prompt_number": 20
    },
    {
     "cell_type": "code",
     "collapsed": false,
     "input": [
      "#parallel\n",
      "def kmeansExt(arg):\n",
      "    from scipy.cluster.vq import kmeans\n",
      "    from scipy.spatial.distance import cdist,pdist\n",
      "    import numpy as np\n",
      "    \n",
      "    X = arg[0]\n",
      "    k = arg[1]\n",
      "    KM = kmeans(X, k)\n",
      "    centroid = KM[0]\n",
      "    D = cdist(X, centroid, 'euclidean')\n",
      "    dist = np.min(D,axis=1)\n",
      "    return sum(dist**2) \n",
      "\n",
      "KK = range(1,K_MAX + 1)\n",
      "t0 = time.time()\n",
      "arg = [(X,i) for i in KK]\n",
      "r = v.map(kmeansExt, arg)\n",
      "res = r.get()\n",
      "parTime = time.time() - t0\n",
      "print parTime"
     ],
     "language": "python",
     "metadata": {},
     "outputs": [
      {
       "output_type": "stream",
       "stream": "stdout",
       "text": [
        "5.75881004333\n"
       ]
      }
     ],
     "prompt_number": 25
    },
    {
     "cell_type": "code",
     "collapsed": false,
     "input": [],
     "language": "python",
     "metadata": {},
     "outputs": []
    }
   ],
   "metadata": {}
  }
 ]
}